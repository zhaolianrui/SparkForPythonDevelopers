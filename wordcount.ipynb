{
 "cells": [
  {
   "cell_type": "markdown",
   "metadata": {},
   "source": [
    "Spark_Version:2.0.1<br/>\n",
    "Python_Version:3.5.2<br/>\n",
    "System:Linux<br/>"
   ]
  },
  {
   "cell_type": "code",
   "execution_count": 1,
   "metadata": {
    "collapsed": false
   },
   "outputs": [
    {
     "name": "stdout",
     "output_type": "stream",
     "text": [
      "Python_Version:3.5.2\n",
      "System:Linux\n",
      "Spark_Version:2.0.1\n"
     ]
    }
   ],
   "source": [
    "import platform\n",
    "print(\"Python_Version:\" + platform.python_version())\n",
    "print(\"System:\" + platform.system())\n",
    "print(\"Spark_Version:\" + sc.version)"
   ]
  },
  {
   "cell_type": "code",
   "execution_count": 2,
   "metadata": {
    "collapsed": false
   },
   "outputs": [
    {
     "data": {
      "text/plain": [
       "'local[*]'"
      ]
     },
     "execution_count": 2,
     "metadata": {},
     "output_type": "execute_result"
    }
   ],
   "source": [
    "sc.master"
   ]
  },
  {
   "cell_type": "code",
   "execution_count": 3,
   "metadata": {
    "collapsed": true
   },
   "outputs": [],
   "source": [
    "import re\n",
    "from operator import add"
   ]
  },
  {
   "cell_type": "code",
   "execution_count": 4,
   "metadata": {
    "collapsed": true
   },
   "outputs": [],
   "source": [
    "file_in = sc.textFile(\"resource/NOTICE\")"
   ]
  },
  {
   "cell_type": "code",
   "execution_count": 5,
   "metadata": {
    "collapsed": false
   },
   "outputs": [
    {
     "data": {
      "text/plain": [
       "664"
      ]
     },
     "execution_count": 5,
     "metadata": {},
     "output_type": "execute_result"
    }
   ],
   "source": [
    "file_in.count()"
   ]
  },
  {
   "cell_type": "code",
   "execution_count": 6,
   "metadata": {
    "collapsed": false
   },
   "outputs": [
    {
     "name": "stdout",
     "output_type": "stream",
     "text": [
      "number of lines in file:664\n",
      "number of characters in file:24078\n"
     ]
    }
   ],
   "source": [
    "print(\"number of lines in file:%s\" % file_in.count())\n",
    "print(\"number of characters in file:%s\" % file_in.map(lambda s: len(s)).reduce(add))"
   ]
  },
  {
   "cell_type": "code",
   "execution_count": 7,
   "metadata": {
    "collapsed": true
   },
   "outputs": [],
   "source": [
    "words = file_in.flatMap(lambda line: re.split('\\W+', line.lower().strip()))"
   ]
  },
  {
   "cell_type": "code",
   "execution_count": 8,
   "metadata": {
    "collapsed": false
   },
   "outputs": [],
   "source": [
    "words = words.filter(lambda x: len(x)>3)"
   ]
  },
  {
   "cell_type": "code",
   "execution_count": 9,
   "metadata": {
    "collapsed": false
   },
   "outputs": [],
   "source": [
    "words = words.map(lambda w: (w,1))"
   ]
  },
  {
   "cell_type": "code",
   "execution_count": 10,
   "metadata": {
    "collapsed": false
   },
   "outputs": [],
   "source": [
    "words = words.reduceByKey(add)"
   ]
  },
  {
   "cell_type": "code",
   "execution_count": 11,
   "metadata": {
    "collapsed": false
   },
   "outputs": [],
   "source": [
    "words = words.map(lambda x: (x[1], x[0])).sortByKey(False)"
   ]
  },
  {
   "cell_type": "code",
   "execution_count": 12,
   "metadata": {
    "collapsed": false
   },
   "outputs": [
    {
     "data": {
      "text/plain": [
       "[(108, 'license'),\n",
       " (106, 'apache'),\n",
       " (72, 'copyright'),\n",
       " (61, 'software'),\n",
       " (56, 'http'),\n",
       " (54, 'this'),\n",
       " (38, 'product'),\n",
       " (38, 'foundation'),\n",
       " (28, 'under'),\n",
       " (27, 'includes'),\n",
       " (26, 'commons'),\n",
       " (19, 'developed'),\n",
       " (18, 'version'),\n",
       " (18, 'project'),\n",
       " (18, 'file'),\n",
       " (17, 'from'),\n",
       " (16, 'public'),\n",
       " (15, 'java'),\n",
       " (15, 'distributed'),\n",
       " (14, 'following')]"
      ]
     },
     "execution_count": 12,
     "metadata": {},
     "output_type": "execute_result"
    }
   ],
   "source": [
    "words.take(20)"
   ]
  },
  {
   "cell_type": "code",
   "execution_count": 13,
   "metadata": {
    "collapsed": false
   },
   "outputs": [],
   "source": [
    "import shutil\n",
    "try:\n",
    "    shutil.rmtree('/root/.cache/matplotlib')\n",
    "except FileNotFoundError:\n",
    "    pass"
   ]
  },
  {
   "cell_type": "code",
   "execution_count": 14,
   "metadata": {
    "collapsed": false
   },
   "outputs": [
    {
     "name": "stderr",
     "output_type": "stream",
     "text": [
      "/usr/local/anaconda3/lib/python3.5/site-packages/matplotlib/font_manager.py:273: UserWarning: Matplotlib is building the font cache using fc-list. This may take a moment.\n",
      "  warnings.warn('Matplotlib is building the font cache using fc-list. This may take a moment.')\n",
      "/usr/local/anaconda3/lib/python3.5/site-packages/matplotlib/font_manager.py:273: UserWarning: Matplotlib is building the font cache using fc-list. This may take a moment.\n",
      "  warnings.warn('Matplotlib is building the font cache using fc-list. This may take a moment.')\n"
     ]
    }
   ],
   "source": [
    "%matplotlib inline"
   ]
  },
  {
   "cell_type": "code",
   "execution_count": 15,
   "metadata": {
    "collapsed": false
   },
   "outputs": [],
   "source": [
    "import matplotlib.pyplot as plt"
   ]
  },
  {
   "cell_type": "code",
   "execution_count": 16,
   "metadata": {
    "collapsed": true
   },
   "outputs": [],
   "source": [
    "def histogram(words):\n",
    "    count = list(map(lambda x: x[1], words))\n",
    "    word = map(lambda x: x[0], words)\n",
    "    plt.barh(range(len(count)), count, color = 'grey')\n",
    "    plt.yticks(range(len(count)), word)"
   ]
  },
  {
   "cell_type": "code",
   "execution_count": 17,
   "metadata": {
    "collapsed": false
   },
   "outputs": [
    {
     "data": {
      "text/plain": [
       "[('license', 108),\n",
       " ('apache', 106),\n",
       " ('copyright', 72),\n",
       " ('software', 61),\n",
       " ('http', 56),\n",
       " ('this', 54),\n",
       " ('product', 38),\n",
       " ('foundation', 38),\n",
       " ('under', 28),\n",
       " ('includes', 27),\n",
       " ('commons', 26),\n",
       " ('developed', 19),\n",
       " ('version', 18),\n",
       " ('project', 18),\n",
       " ('file', 18),\n",
       " ('from', 17),\n",
       " ('public', 16),\n",
       " ('java', 15),\n",
       " ('distributed', 15),\n",
       " ('following', 14),\n",
       " ('common', 13),\n",
       " ('which', 12),\n",
       " ('junit', 12),\n",
       " ('code', 12),\n",
       " ('2011', 12)]"
      ]
     },
     "execution_count": 17,
     "metadata": {},
     "output_type": "execute_result"
    }
   ],
   "source": [
    "words = words.map(lambda x: (x[1], x[0]))\n",
    "words.take(25)"
   ]
  },
  {
   "cell_type": "code",
   "execution_count": 18,
   "metadata": {
    "collapsed": false
   },
   "outputs": [
    {
     "data": {
      "image/png": "[encoded data removed]",
      "text/plain": [
       "<matplotlib.figure.Figure at 0x7fcb9aa72a20>"
      ]
     },
     "metadata": {},
     "output_type": "display_data"
    }
   ],
   "source": [
    "histogram(words.take(20))"
   ]
  }
 ],
 "metadata": {
  "anaconda-cloud": {},
  "kernelspec": {
   "display_name": "Python [default]",
   "language": "python",
   "name": "python3"
  },
  "language_info": {
   "codemirror_mode": {
    "name": "ipython",
    "version": 3
   },
   "file_extension": ".py",
   "mimetype": "text/x-python",
   "name": "python",
   "nbconvert_exporter": "python",
   "pygments_lexer": "ipython3",
   "version": "3.5.2"
  }
 },
 "nbformat": 4,
 "nbformat_minor": 1
}
